{
  "nbformat": 4,
  "nbformat_minor": 0,
  "metadata": {
    "colab": {
      "provenance": []
    },
    "kernelspec": {
      "name": "python3",
      "display_name": "Python 3"
    },
    "language_info": {
      "name": "python"
    }
  },
  "cells": [
    {
      "cell_type": "markdown",
      "source": [
        "# قسمت سوم پروژه\n",
        "## امیرحسین صفری\n",
        "## 14014121\n"
      ],
      "metadata": {
        "id": "N0kiU3OuJgXr"
      }
    },
    {
      "cell_type": "code",
      "execution_count": 3,
      "metadata": {
        "id": "kZLwQywDo5my"
      },
      "outputs": [],
      "source": [
        "import pandas as pd"
      ]
    },
    {
      "cell_type": "code",
      "source": [
        "df = pd.read_csv(\"/content/dataset.csv\")\n",
        "df.head()"
      ],
      "metadata": {
        "colab": {
          "base_uri": "https://localhost:8080/",
          "height": 300
        },
        "id": "0HawQiacrEpH",
        "outputId": "8aa44499-2653-43a9-f60e-65d549a0d856"
      },
      "execution_count": 4,
      "outputs": [
        {
          "output_type": "execute_result",
          "data": {
            "text/plain": [
              "                       Unnamed: 0  a1CKP_A_vdwHBondDesolvEnergy  \\\n",
              "0  CHEMBL1076721_ZINC000049525584                         -9.72   \n",
              "1  CHEMBL1080902_ZINC000049033769                        -10.45   \n",
              "2  CHEMBL1083786_ZINC000034105115                        -11.18   \n",
              "3  CHEMBL1084630_ZINC000003950136                        -11.62   \n",
              "4  CHEMBL1241473_ZINC000003986637                         -7.47   \n",
              "\n",
              "   a1CKP_A_electrostaticEnergy  a1CKP_A_internalEnergy  \\\n",
              "0                        -0.05                   -0.66   \n",
              "1                         0.39                   -1.07   \n",
              "2                         0.23                   -0.38   \n",
              "3                         0.22                   -1.01   \n",
              "4                        -2.57                   -3.41   \n",
              "\n",
              "   a1CKP_A_torsionalFreeEnergy  a1FIN_A_vdwHBondDesolvEnergy  \\\n",
              "0                         1.19                         -9.89   \n",
              "1                         1.49                         -9.89   \n",
              "2                         1.19                        -11.67   \n",
              "3                         1.79                        -11.24   \n",
              "4                         2.68                         -8.73   \n",
              "\n",
              "   a1FIN_A_electrostaticEnergy  a1FIN_A_internalEnergy  \\\n",
              "0                         0.10                   -0.66   \n",
              "1                        -0.39                   -1.28   \n",
              "2                         0.18                   -0.75   \n",
              "3                         0.32                   -0.51   \n",
              "4                        -1.77                   -1.89   \n",
              "\n",
              "   a1FIN_A_torsionalFreeEnergy  a1FQ1_B_vdwHBondDesolvEnergy  ...  \\\n",
              "0                         1.19                         -9.93  ...   \n",
              "1                         1.49                        -10.34  ...   \n",
              "2                         1.19                        -10.11  ...   \n",
              "3                         1.79                        -11.88  ...   \n",
              "4                         2.68                         -8.54  ...   \n",
              "\n",
              "   a5JQ8_A_torsionalFreeEnergy  MOLWEIGHT  ALOGP     PSA  HBA  HBD  RTB  \\\n",
              "0                         1.19     295.30   1.55   87.97    6    2    4   \n",
              "1                         1.49     324.33   2.68   84.31    6    2    5   \n",
              "2                         1.19     408.52   2.74  102.48    6    1    4   \n",
              "3                         1.79     396.51   3.65  103.44    7    2    6   \n",
              "4                         2.68     440.41   3.06  166.43   10    3    9   \n",
              "\n",
              "   AROMATIC_RINGS  HEAVY_ATOMS     deltaG  \n",
              "0               2           22  -9.826999  \n",
              "1               2           24  -9.574314  \n",
              "2               3           29  -8.677510  \n",
              "3               3           28  -9.299921  \n",
              "4               3           32 -10.634638  \n",
              "\n",
              "[5 rows x 114 columns]"
            ],
            "text/html": [
              "\n",
              "  <div id=\"df-6ca36412-9d92-4274-aff6-fc3610645e5b\">\n",
              "    <div class=\"colab-df-container\">\n",
              "      <div>\n",
              "<style scoped>\n",
              "    .dataframe tbody tr th:only-of-type {\n",
              "        vertical-align: middle;\n",
              "    }\n",
              "\n",
              "    .dataframe tbody tr th {\n",
              "        vertical-align: top;\n",
              "    }\n",
              "\n",
              "    .dataframe thead th {\n",
              "        text-align: right;\n",
              "    }\n",
              "</style>\n",
              "<table border=\"1\" class=\"dataframe\">\n",
              "  <thead>\n",
              "    <tr style=\"text-align: right;\">\n",
              "      <th></th>\n",
              "      <th>Unnamed: 0</th>\n",
              "      <th>a1CKP_A_vdwHBondDesolvEnergy</th>\n",
              "      <th>a1CKP_A_electrostaticEnergy</th>\n",
              "      <th>a1CKP_A_internalEnergy</th>\n",
              "      <th>a1CKP_A_torsionalFreeEnergy</th>\n",
              "      <th>a1FIN_A_vdwHBondDesolvEnergy</th>\n",
              "      <th>a1FIN_A_electrostaticEnergy</th>\n",
              "      <th>a1FIN_A_internalEnergy</th>\n",
              "      <th>a1FIN_A_torsionalFreeEnergy</th>\n",
              "      <th>a1FQ1_B_vdwHBondDesolvEnergy</th>\n",
              "      <th>...</th>\n",
              "      <th>a5JQ8_A_torsionalFreeEnergy</th>\n",
              "      <th>MOLWEIGHT</th>\n",
              "      <th>ALOGP</th>\n",
              "      <th>PSA</th>\n",
              "      <th>HBA</th>\n",
              "      <th>HBD</th>\n",
              "      <th>RTB</th>\n",
              "      <th>AROMATIC_RINGS</th>\n",
              "      <th>HEAVY_ATOMS</th>\n",
              "      <th>deltaG</th>\n",
              "    </tr>\n",
              "  </thead>\n",
              "  <tbody>\n",
              "    <tr>\n",
              "      <th>0</th>\n",
              "      <td>CHEMBL1076721_ZINC000049525584</td>\n",
              "      <td>-9.72</td>\n",
              "      <td>-0.05</td>\n",
              "      <td>-0.66</td>\n",
              "      <td>1.19</td>\n",
              "      <td>-9.89</td>\n",
              "      <td>0.10</td>\n",
              "      <td>-0.66</td>\n",
              "      <td>1.19</td>\n",
              "      <td>-9.93</td>\n",
              "      <td>...</td>\n",
              "      <td>1.19</td>\n",
              "      <td>295.30</td>\n",
              "      <td>1.55</td>\n",
              "      <td>87.97</td>\n",
              "      <td>6</td>\n",
              "      <td>2</td>\n",
              "      <td>4</td>\n",
              "      <td>2</td>\n",
              "      <td>22</td>\n",
              "      <td>-9.826999</td>\n",
              "    </tr>\n",
              "    <tr>\n",
              "      <th>1</th>\n",
              "      <td>CHEMBL1080902_ZINC000049033769</td>\n",
              "      <td>-10.45</td>\n",
              "      <td>0.39</td>\n",
              "      <td>-1.07</td>\n",
              "      <td>1.49</td>\n",
              "      <td>-9.89</td>\n",
              "      <td>-0.39</td>\n",
              "      <td>-1.28</td>\n",
              "      <td>1.49</td>\n",
              "      <td>-10.34</td>\n",
              "      <td>...</td>\n",
              "      <td>1.49</td>\n",
              "      <td>324.33</td>\n",
              "      <td>2.68</td>\n",
              "      <td>84.31</td>\n",
              "      <td>6</td>\n",
              "      <td>2</td>\n",
              "      <td>5</td>\n",
              "      <td>2</td>\n",
              "      <td>24</td>\n",
              "      <td>-9.574314</td>\n",
              "    </tr>\n",
              "    <tr>\n",
              "      <th>2</th>\n",
              "      <td>CHEMBL1083786_ZINC000034105115</td>\n",
              "      <td>-11.18</td>\n",
              "      <td>0.23</td>\n",
              "      <td>-0.38</td>\n",
              "      <td>1.19</td>\n",
              "      <td>-11.67</td>\n",
              "      <td>0.18</td>\n",
              "      <td>-0.75</td>\n",
              "      <td>1.19</td>\n",
              "      <td>-10.11</td>\n",
              "      <td>...</td>\n",
              "      <td>1.19</td>\n",
              "      <td>408.52</td>\n",
              "      <td>2.74</td>\n",
              "      <td>102.48</td>\n",
              "      <td>6</td>\n",
              "      <td>1</td>\n",
              "      <td>4</td>\n",
              "      <td>3</td>\n",
              "      <td>29</td>\n",
              "      <td>-8.677510</td>\n",
              "    </tr>\n",
              "    <tr>\n",
              "      <th>3</th>\n",
              "      <td>CHEMBL1084630_ZINC000003950136</td>\n",
              "      <td>-11.62</td>\n",
              "      <td>0.22</td>\n",
              "      <td>-1.01</td>\n",
              "      <td>1.79</td>\n",
              "      <td>-11.24</td>\n",
              "      <td>0.32</td>\n",
              "      <td>-0.51</td>\n",
              "      <td>1.79</td>\n",
              "      <td>-11.88</td>\n",
              "      <td>...</td>\n",
              "      <td>1.79</td>\n",
              "      <td>396.51</td>\n",
              "      <td>3.65</td>\n",
              "      <td>103.44</td>\n",
              "      <td>7</td>\n",
              "      <td>2</td>\n",
              "      <td>6</td>\n",
              "      <td>3</td>\n",
              "      <td>28</td>\n",
              "      <td>-9.299921</td>\n",
              "    </tr>\n",
              "    <tr>\n",
              "      <th>4</th>\n",
              "      <td>CHEMBL1241473_ZINC000003986637</td>\n",
              "      <td>-7.47</td>\n",
              "      <td>-2.57</td>\n",
              "      <td>-3.41</td>\n",
              "      <td>2.68</td>\n",
              "      <td>-8.73</td>\n",
              "      <td>-1.77</td>\n",
              "      <td>-1.89</td>\n",
              "      <td>2.68</td>\n",
              "      <td>-8.54</td>\n",
              "      <td>...</td>\n",
              "      <td>2.68</td>\n",
              "      <td>440.41</td>\n",
              "      <td>3.06</td>\n",
              "      <td>166.43</td>\n",
              "      <td>10</td>\n",
              "      <td>3</td>\n",
              "      <td>9</td>\n",
              "      <td>3</td>\n",
              "      <td>32</td>\n",
              "      <td>-10.634638</td>\n",
              "    </tr>\n",
              "  </tbody>\n",
              "</table>\n",
              "<p>5 rows × 114 columns</p>\n",
              "</div>\n",
              "      <button class=\"colab-df-convert\" onclick=\"convertToInteractive('df-6ca36412-9d92-4274-aff6-fc3610645e5b')\"\n",
              "              title=\"Convert this dataframe to an interactive table.\"\n",
              "              style=\"display:none;\">\n",
              "        \n",
              "  <svg xmlns=\"http://www.w3.org/2000/svg\" height=\"24px\"viewBox=\"0 0 24 24\"\n",
              "       width=\"24px\">\n",
              "    <path d=\"M0 0h24v24H0V0z\" fill=\"none\"/>\n",
              "    <path d=\"M18.56 5.44l.94 2.06.94-2.06 2.06-.94-2.06-.94-.94-2.06-.94 2.06-2.06.94zm-11 1L8.5 8.5l.94-2.06 2.06-.94-2.06-.94L8.5 2.5l-.94 2.06-2.06.94zm10 10l.94 2.06.94-2.06 2.06-.94-2.06-.94-.94-2.06-.94 2.06-2.06.94z\"/><path d=\"M17.41 7.96l-1.37-1.37c-.4-.4-.92-.59-1.43-.59-.52 0-1.04.2-1.43.59L10.3 9.45l-7.72 7.72c-.78.78-.78 2.05 0 2.83L4 21.41c.39.39.9.59 1.41.59.51 0 1.02-.2 1.41-.59l7.78-7.78 2.81-2.81c.8-.78.8-2.07 0-2.86zM5.41 20L4 18.59l7.72-7.72 1.47 1.35L5.41 20z\"/>\n",
              "  </svg>\n",
              "      </button>\n",
              "      \n",
              "  <style>\n",
              "    .colab-df-container {\n",
              "      display:flex;\n",
              "      flex-wrap:wrap;\n",
              "      gap: 12px;\n",
              "    }\n",
              "\n",
              "    .colab-df-convert {\n",
              "      background-color: #E8F0FE;\n",
              "      border: none;\n",
              "      border-radius: 50%;\n",
              "      cursor: pointer;\n",
              "      display: none;\n",
              "      fill: #1967D2;\n",
              "      height: 32px;\n",
              "      padding: 0 0 0 0;\n",
              "      width: 32px;\n",
              "    }\n",
              "\n",
              "    .colab-df-convert:hover {\n",
              "      background-color: #E2EBFA;\n",
              "      box-shadow: 0px 1px 2px rgba(60, 64, 67, 0.3), 0px 1px 3px 1px rgba(60, 64, 67, 0.15);\n",
              "      fill: #174EA6;\n",
              "    }\n",
              "\n",
              "    [theme=dark] .colab-df-convert {\n",
              "      background-color: #3B4455;\n",
              "      fill: #D2E3FC;\n",
              "    }\n",
              "\n",
              "    [theme=dark] .colab-df-convert:hover {\n",
              "      background-color: #434B5C;\n",
              "      box-shadow: 0px 1px 3px 1px rgba(0, 0, 0, 0.15);\n",
              "      filter: drop-shadow(0px 1px 2px rgba(0, 0, 0, 0.3));\n",
              "      fill: #FFFFFF;\n",
              "    }\n",
              "  </style>\n",
              "\n",
              "      <script>\n",
              "        const buttonEl =\n",
              "          document.querySelector('#df-6ca36412-9d92-4274-aff6-fc3610645e5b button.colab-df-convert');\n",
              "        buttonEl.style.display =\n",
              "          google.colab.kernel.accessAllowed ? 'block' : 'none';\n",
              "\n",
              "        async function convertToInteractive(key) {\n",
              "          const element = document.querySelector('#df-6ca36412-9d92-4274-aff6-fc3610645e5b');\n",
              "          const dataTable =\n",
              "            await google.colab.kernel.invokeFunction('convertToInteractive',\n",
              "                                                     [key], {});\n",
              "          if (!dataTable) return;\n",
              "\n",
              "          const docLinkHtml = 'Like what you see? Visit the ' +\n",
              "            '<a target=\"_blank\" href=https://colab.research.google.com/notebooks/data_table.ipynb>data table notebook</a>'\n",
              "            + ' to learn more about interactive tables.';\n",
              "          element.innerHTML = '';\n",
              "          dataTable['output_type'] = 'display_data';\n",
              "          await google.colab.output.renderOutput(dataTable, element);\n",
              "          const docLink = document.createElement('div');\n",
              "          docLink.innerHTML = docLinkHtml;\n",
              "          element.appendChild(docLink);\n",
              "        }\n",
              "      </script>\n",
              "    </div>\n",
              "  </div>\n",
              "  "
            ]
          },
          "metadata": {},
          "execution_count": 4
        }
      ]
    },
    {
      "cell_type": "markdown",
      "source": [
        "      # Q1"
      ],
      "metadata": {
        "id": "qaWPH5VjxruH"
      }
    },
    {
      "cell_type": "code",
      "source": [
        "len(df.columns)"
      ],
      "metadata": {
        "colab": {
          "base_uri": "https://localhost:8080/"
        },
        "id": "71VwlHUCxjPF",
        "outputId": "15383aa1-9c75-4e6a-fd5c-5f69773af951"
      },
      "execution_count": 5,
      "outputs": [
        {
          "output_type": "execute_result",
          "data": {
            "text/plain": [
              "114"
            ]
          },
          "metadata": {},
          "execution_count": 5
        }
      ]
    },
    {
      "cell_type": "code",
      "source": [
        "y = df.deltaG"
      ],
      "metadata": {
        "id": "ELIcZItgx1uT"
      },
      "execution_count": 6,
      "outputs": []
    },
    {
      "cell_type": "code",
      "source": [
        "features = []\n",
        "for feature in df.columns:\n",
        "  if feature not in [\"deltaG\", \"Unnamed: 0\"] :\n",
        "    features.append(feature)"
      ],
      "metadata": {
        "id": "ZVaRc-RjzKoq"
      },
      "execution_count": 7,
      "outputs": []
    },
    {
      "cell_type": "code",
      "source": [
        "len(features)"
      ],
      "metadata": {
        "colab": {
          "base_uri": "https://localhost:8080/"
        },
        "id": "RJmDOQqfzrV4",
        "outputId": "9f64bbfb-5217-417d-d246-922abe8d5ff3"
      },
      "execution_count": 8,
      "outputs": [
        {
          "output_type": "execute_result",
          "data": {
            "text/plain": [
              "112"
            ]
          },
          "metadata": {},
          "execution_count": 8
        }
      ]
    },
    {
      "cell_type": "code",
      "source": [
        "X = df[features]"
      ],
      "metadata": {
        "id": "J4yd5zAA0c_w"
      },
      "execution_count": 9,
      "outputs": []
    },
    {
      "cell_type": "code",
      "source": [
        "X.head()"
      ],
      "metadata": {
        "colab": {
          "base_uri": "https://localhost:8080/",
          "height": 300
        },
        "id": "JFyv36yj0osn",
        "outputId": "2c48f6de-d018-4ad6-fad0-1ec908a97b82"
      },
      "execution_count": 10,
      "outputs": [
        {
          "output_type": "execute_result",
          "data": {
            "text/plain": [
              "   a1CKP_A_vdwHBondDesolvEnergy  a1CKP_A_electrostaticEnergy  \\\n",
              "0                         -9.72                        -0.05   \n",
              "1                        -10.45                         0.39   \n",
              "2                        -11.18                         0.23   \n",
              "3                        -11.62                         0.22   \n",
              "4                         -7.47                        -2.57   \n",
              "\n",
              "   a1CKP_A_internalEnergy  a1CKP_A_torsionalFreeEnergy  \\\n",
              "0                   -0.66                         1.19   \n",
              "1                   -1.07                         1.49   \n",
              "2                   -0.38                         1.19   \n",
              "3                   -1.01                         1.79   \n",
              "4                   -3.41                         2.68   \n",
              "\n",
              "   a1FIN_A_vdwHBondDesolvEnergy  a1FIN_A_electrostaticEnergy  \\\n",
              "0                         -9.89                         0.10   \n",
              "1                         -9.89                        -0.39   \n",
              "2                        -11.67                         0.18   \n",
              "3                        -11.24                         0.32   \n",
              "4                         -8.73                        -1.77   \n",
              "\n",
              "   a1FIN_A_internalEnergy  a1FIN_A_torsionalFreeEnergy  \\\n",
              "0                   -0.66                         1.19   \n",
              "1                   -1.28                         1.49   \n",
              "2                   -0.75                         1.19   \n",
              "3                   -0.51                         1.79   \n",
              "4                   -1.89                         2.68   \n",
              "\n",
              "   a1FQ1_B_vdwHBondDesolvEnergy  a1FQ1_B_electrostaticEnergy  ...  \\\n",
              "0                         -9.93                        -0.04  ...   \n",
              "1                        -10.34                         0.01  ...   \n",
              "2                        -10.11                         0.09  ...   \n",
              "3                        -11.88                         0.40  ...   \n",
              "4                         -8.54                        -2.31  ...   \n",
              "\n",
              "   a5JQ8_A_internalEnergy  a5JQ8_A_torsionalFreeEnergy  MOLWEIGHT  ALOGP  \\\n",
              "0                   -0.64                         1.19     295.30   1.55   \n",
              "1                   -0.79                         1.49     324.33   2.68   \n",
              "2                   -0.73                         1.19     408.52   2.74   \n",
              "3                   -0.90                         1.79     396.51   3.65   \n",
              "4                   -2.15                         2.68     440.41   3.06   \n",
              "\n",
              "      PSA  HBA  HBD  RTB  AROMATIC_RINGS  HEAVY_ATOMS  \n",
              "0   87.97    6    2    4               2           22  \n",
              "1   84.31    6    2    5               2           24  \n",
              "2  102.48    6    1    4               3           29  \n",
              "3  103.44    7    2    6               3           28  \n",
              "4  166.43   10    3    9               3           32  \n",
              "\n",
              "[5 rows x 112 columns]"
            ],
            "text/html": [
              "\n",
              "  <div id=\"df-af9f9d0d-5f12-4bef-a1eb-896fbdbef834\">\n",
              "    <div class=\"colab-df-container\">\n",
              "      <div>\n",
              "<style scoped>\n",
              "    .dataframe tbody tr th:only-of-type {\n",
              "        vertical-align: middle;\n",
              "    }\n",
              "\n",
              "    .dataframe tbody tr th {\n",
              "        vertical-align: top;\n",
              "    }\n",
              "\n",
              "    .dataframe thead th {\n",
              "        text-align: right;\n",
              "    }\n",
              "</style>\n",
              "<table border=\"1\" class=\"dataframe\">\n",
              "  <thead>\n",
              "    <tr style=\"text-align: right;\">\n",
              "      <th></th>\n",
              "      <th>a1CKP_A_vdwHBondDesolvEnergy</th>\n",
              "      <th>a1CKP_A_electrostaticEnergy</th>\n",
              "      <th>a1CKP_A_internalEnergy</th>\n",
              "      <th>a1CKP_A_torsionalFreeEnergy</th>\n",
              "      <th>a1FIN_A_vdwHBondDesolvEnergy</th>\n",
              "      <th>a1FIN_A_electrostaticEnergy</th>\n",
              "      <th>a1FIN_A_internalEnergy</th>\n",
              "      <th>a1FIN_A_torsionalFreeEnergy</th>\n",
              "      <th>a1FQ1_B_vdwHBondDesolvEnergy</th>\n",
              "      <th>a1FQ1_B_electrostaticEnergy</th>\n",
              "      <th>...</th>\n",
              "      <th>a5JQ8_A_internalEnergy</th>\n",
              "      <th>a5JQ8_A_torsionalFreeEnergy</th>\n",
              "      <th>MOLWEIGHT</th>\n",
              "      <th>ALOGP</th>\n",
              "      <th>PSA</th>\n",
              "      <th>HBA</th>\n",
              "      <th>HBD</th>\n",
              "      <th>RTB</th>\n",
              "      <th>AROMATIC_RINGS</th>\n",
              "      <th>HEAVY_ATOMS</th>\n",
              "    </tr>\n",
              "  </thead>\n",
              "  <tbody>\n",
              "    <tr>\n",
              "      <th>0</th>\n",
              "      <td>-9.72</td>\n",
              "      <td>-0.05</td>\n",
              "      <td>-0.66</td>\n",
              "      <td>1.19</td>\n",
              "      <td>-9.89</td>\n",
              "      <td>0.10</td>\n",
              "      <td>-0.66</td>\n",
              "      <td>1.19</td>\n",
              "      <td>-9.93</td>\n",
              "      <td>-0.04</td>\n",
              "      <td>...</td>\n",
              "      <td>-0.64</td>\n",
              "      <td>1.19</td>\n",
              "      <td>295.30</td>\n",
              "      <td>1.55</td>\n",
              "      <td>87.97</td>\n",
              "      <td>6</td>\n",
              "      <td>2</td>\n",
              "      <td>4</td>\n",
              "      <td>2</td>\n",
              "      <td>22</td>\n",
              "    </tr>\n",
              "    <tr>\n",
              "      <th>1</th>\n",
              "      <td>-10.45</td>\n",
              "      <td>0.39</td>\n",
              "      <td>-1.07</td>\n",
              "      <td>1.49</td>\n",
              "      <td>-9.89</td>\n",
              "      <td>-0.39</td>\n",
              "      <td>-1.28</td>\n",
              "      <td>1.49</td>\n",
              "      <td>-10.34</td>\n",
              "      <td>0.01</td>\n",
              "      <td>...</td>\n",
              "      <td>-0.79</td>\n",
              "      <td>1.49</td>\n",
              "      <td>324.33</td>\n",
              "      <td>2.68</td>\n",
              "      <td>84.31</td>\n",
              "      <td>6</td>\n",
              "      <td>2</td>\n",
              "      <td>5</td>\n",
              "      <td>2</td>\n",
              "      <td>24</td>\n",
              "    </tr>\n",
              "    <tr>\n",
              "      <th>2</th>\n",
              "      <td>-11.18</td>\n",
              "      <td>0.23</td>\n",
              "      <td>-0.38</td>\n",
              "      <td>1.19</td>\n",
              "      <td>-11.67</td>\n",
              "      <td>0.18</td>\n",
              "      <td>-0.75</td>\n",
              "      <td>1.19</td>\n",
              "      <td>-10.11</td>\n",
              "      <td>0.09</td>\n",
              "      <td>...</td>\n",
              "      <td>-0.73</td>\n",
              "      <td>1.19</td>\n",
              "      <td>408.52</td>\n",
              "      <td>2.74</td>\n",
              "      <td>102.48</td>\n",
              "      <td>6</td>\n",
              "      <td>1</td>\n",
              "      <td>4</td>\n",
              "      <td>3</td>\n",
              "      <td>29</td>\n",
              "    </tr>\n",
              "    <tr>\n",
              "      <th>3</th>\n",
              "      <td>-11.62</td>\n",
              "      <td>0.22</td>\n",
              "      <td>-1.01</td>\n",
              "      <td>1.79</td>\n",
              "      <td>-11.24</td>\n",
              "      <td>0.32</td>\n",
              "      <td>-0.51</td>\n",
              "      <td>1.79</td>\n",
              "      <td>-11.88</td>\n",
              "      <td>0.40</td>\n",
              "      <td>...</td>\n",
              "      <td>-0.90</td>\n",
              "      <td>1.79</td>\n",
              "      <td>396.51</td>\n",
              "      <td>3.65</td>\n",
              "      <td>103.44</td>\n",
              "      <td>7</td>\n",
              "      <td>2</td>\n",
              "      <td>6</td>\n",
              "      <td>3</td>\n",
              "      <td>28</td>\n",
              "    </tr>\n",
              "    <tr>\n",
              "      <th>4</th>\n",
              "      <td>-7.47</td>\n",
              "      <td>-2.57</td>\n",
              "      <td>-3.41</td>\n",
              "      <td>2.68</td>\n",
              "      <td>-8.73</td>\n",
              "      <td>-1.77</td>\n",
              "      <td>-1.89</td>\n",
              "      <td>2.68</td>\n",
              "      <td>-8.54</td>\n",
              "      <td>-2.31</td>\n",
              "      <td>...</td>\n",
              "      <td>-2.15</td>\n",
              "      <td>2.68</td>\n",
              "      <td>440.41</td>\n",
              "      <td>3.06</td>\n",
              "      <td>166.43</td>\n",
              "      <td>10</td>\n",
              "      <td>3</td>\n",
              "      <td>9</td>\n",
              "      <td>3</td>\n",
              "      <td>32</td>\n",
              "    </tr>\n",
              "  </tbody>\n",
              "</table>\n",
              "<p>5 rows × 112 columns</p>\n",
              "</div>\n",
              "      <button class=\"colab-df-convert\" onclick=\"convertToInteractive('df-af9f9d0d-5f12-4bef-a1eb-896fbdbef834')\"\n",
              "              title=\"Convert this dataframe to an interactive table.\"\n",
              "              style=\"display:none;\">\n",
              "        \n",
              "  <svg xmlns=\"http://www.w3.org/2000/svg\" height=\"24px\"viewBox=\"0 0 24 24\"\n",
              "       width=\"24px\">\n",
              "    <path d=\"M0 0h24v24H0V0z\" fill=\"none\"/>\n",
              "    <path d=\"M18.56 5.44l.94 2.06.94-2.06 2.06-.94-2.06-.94-.94-2.06-.94 2.06-2.06.94zm-11 1L8.5 8.5l.94-2.06 2.06-.94-2.06-.94L8.5 2.5l-.94 2.06-2.06.94zm10 10l.94 2.06.94-2.06 2.06-.94-2.06-.94-.94-2.06-.94 2.06-2.06.94z\"/><path d=\"M17.41 7.96l-1.37-1.37c-.4-.4-.92-.59-1.43-.59-.52 0-1.04.2-1.43.59L10.3 9.45l-7.72 7.72c-.78.78-.78 2.05 0 2.83L4 21.41c.39.39.9.59 1.41.59.51 0 1.02-.2 1.41-.59l7.78-7.78 2.81-2.81c.8-.78.8-2.07 0-2.86zM5.41 20L4 18.59l7.72-7.72 1.47 1.35L5.41 20z\"/>\n",
              "  </svg>\n",
              "      </button>\n",
              "      \n",
              "  <style>\n",
              "    .colab-df-container {\n",
              "      display:flex;\n",
              "      flex-wrap:wrap;\n",
              "      gap: 12px;\n",
              "    }\n",
              "\n",
              "    .colab-df-convert {\n",
              "      background-color: #E8F0FE;\n",
              "      border: none;\n",
              "      border-radius: 50%;\n",
              "      cursor: pointer;\n",
              "      display: none;\n",
              "      fill: #1967D2;\n",
              "      height: 32px;\n",
              "      padding: 0 0 0 0;\n",
              "      width: 32px;\n",
              "    }\n",
              "\n",
              "    .colab-df-convert:hover {\n",
              "      background-color: #E2EBFA;\n",
              "      box-shadow: 0px 1px 2px rgba(60, 64, 67, 0.3), 0px 1px 3px 1px rgba(60, 64, 67, 0.15);\n",
              "      fill: #174EA6;\n",
              "    }\n",
              "\n",
              "    [theme=dark] .colab-df-convert {\n",
              "      background-color: #3B4455;\n",
              "      fill: #D2E3FC;\n",
              "    }\n",
              "\n",
              "    [theme=dark] .colab-df-convert:hover {\n",
              "      background-color: #434B5C;\n",
              "      box-shadow: 0px 1px 3px 1px rgba(0, 0, 0, 0.15);\n",
              "      filter: drop-shadow(0px 1px 2px rgba(0, 0, 0, 0.3));\n",
              "      fill: #FFFFFF;\n",
              "    }\n",
              "  </style>\n",
              "\n",
              "      <script>\n",
              "        const buttonEl =\n",
              "          document.querySelector('#df-af9f9d0d-5f12-4bef-a1eb-896fbdbef834 button.colab-df-convert');\n",
              "        buttonEl.style.display =\n",
              "          google.colab.kernel.accessAllowed ? 'block' : 'none';\n",
              "\n",
              "        async function convertToInteractive(key) {\n",
              "          const element = document.querySelector('#df-af9f9d0d-5f12-4bef-a1eb-896fbdbef834');\n",
              "          const dataTable =\n",
              "            await google.colab.kernel.invokeFunction('convertToInteractive',\n",
              "                                                     [key], {});\n",
              "          if (!dataTable) return;\n",
              "\n",
              "          const docLinkHtml = 'Like what you see? Visit the ' +\n",
              "            '<a target=\"_blank\" href=https://colab.research.google.com/notebooks/data_table.ipynb>data table notebook</a>'\n",
              "            + ' to learn more about interactive tables.';\n",
              "          element.innerHTML = '';\n",
              "          dataTable['output_type'] = 'display_data';\n",
              "          await google.colab.output.renderOutput(dataTable, element);\n",
              "          const docLink = document.createElement('div');\n",
              "          docLink.innerHTML = docLinkHtml;\n",
              "          element.appendChild(docLink);\n",
              "        }\n",
              "      </script>\n",
              "    </div>\n",
              "  </div>\n",
              "  "
            ]
          },
          "metadata": {},
          "execution_count": 10
        }
      ]
    },
    {
      "cell_type": "markdown",
      "source": [
        "      # Q2, Q3, Q4\n"
      ],
      "metadata": {
        "id": "qsJIS6ZFx6Br"
      }
    },
    {
      "cell_type": "code",
      "source": [
        "from sklearn.metrics import mean_absolute_error\n",
        "from sklearn.tree import DecisionTreeRegressor\n",
        "from sklearn.model_selection import train_test_split"
      ],
      "metadata": {
        "id": "nrNCaHM8Aj16"
      },
      "execution_count": 11,
      "outputs": []
    },
    {
      "cell_type": "code",
      "source": [
        "def get_mae(max_leaf_nodes, train_X, val_X, train_y, val_y):\n",
        "    # Q3\n",
        "    # Define model\n",
        "    model = DecisionTreeRegressor(max_leaf_nodes=max_leaf_nodes, random_state=0)\n",
        "    \n",
        "    # Fit model\n",
        "    model.fit(train_X, train_y)\n",
        "\n",
        "    # get predicted on validation data\n",
        "    preds_val = model.predict(val_X)\n",
        "    mae = mean_absolute_error(val_y, preds_val)\n",
        "    return(mae)"
      ],
      "metadata": {
        "id": "7zimYPHu_46I"
      },
      "execution_count": 12,
      "outputs": []
    },
    {
      "cell_type": "code",
      "source": [
        "# Q3\n",
        "train_X, val_X, train_y, val_y = train_test_split(X, y,random_state = 0, train_size=0.90, test_size=0.10)\n",
        "\n",
        "# compare MAE with differing values of max_leaf_nodes\n",
        "for max_leaf_nodes in [5, 50, 100, 250, 500]:\n",
        "    my_mae = get_mae(max_leaf_nodes, train_X, val_X, train_y, val_y)\n",
        "    # Q4\n",
        "    print(f\"Max leaf nodes: {max_leaf_nodes}  \\t\\t Mean Absolute Error:  {my_mae}\")"
      ],
      "metadata": {
        "colab": {
          "base_uri": "https://localhost:8080/"
        },
        "id": "DDfRZYfDACkF",
        "outputId": "576502ac-ba20-40a0-bcf8-67bb7742e406"
      },
      "execution_count": 13,
      "outputs": [
        {
          "output_type": "stream",
          "name": "stdout",
          "text": [
            "Max leaf nodes: 5  \t\t Mean Absolute Error:  1.1892309719746768\n",
            "Max leaf nodes: 50  \t\t Mean Absolute Error:  1.4299126850171957\n",
            "Max leaf nodes: 100  \t\t Mean Absolute Error:  1.3888617408888888\n",
            "Max leaf nodes: 250  \t\t Mean Absolute Error:  1.393445793380952\n",
            "Max leaf nodes: 500  \t\t Mean Absolute Error:  1.393445793380952\n"
          ]
        }
      ]
    },
    {
      "cell_type": "code",
      "source": [
        "from sklearn.ensemble import RandomForestRegressor\n",
        "from sklearn.pipeline import Pipeline\n",
        "\n",
        "for n in [5, 10, 25, 50]:\n",
        "  my_pipeline = Pipeline(steps=[('model', RandomForestRegressor(n_estimators=n, random_state=0))])\n",
        "  # forest_model = RandomForestRegressor(random_state=1, n_estimators=n)\n",
        "  my_pipeline.fit(train_X, train_y)\n",
        "  preds = my_pipeline.predict(val_X)\n",
        "  # Q4\n",
        "  print(f\"n estimator: {n}  \\t\\t Mean Absolute Error:  {mean_absolute_error(val_y, preds)}\")"
      ],
      "metadata": {
        "colab": {
          "base_uri": "https://localhost:8080/"
        },
        "id": "2ovG7NM6CVLq",
        "outputId": "fb93c429-669f-4fbd-f843-c387dbe38f76"
      },
      "execution_count": 14,
      "outputs": [
        {
          "output_type": "stream",
          "name": "stdout",
          "text": [
            "n estimator: 5  \t\t Mean Absolute Error:  1.0901293582857143\n",
            "n estimator: 10  \t\t Mean Absolute Error:  0.9861457144714287\n",
            "n estimator: 25  \t\t Mean Absolute Error:  0.9834599969066664\n",
            "n estimator: 50  \t\t Mean Absolute Error:  0.9184334710923804\n"
          ]
        }
      ]
    },
    {
      "cell_type": "markdown",
      "source": [
        "# Using cross validation"
      ],
      "metadata": {
        "id": "loofH-VFO4r_"
      }
    },
    {
      "cell_type": "code",
      "source": [
        "from sklearn.ensemble import RandomForestRegressor\n",
        "from sklearn.pipeline import Pipeline\n",
        "\n",
        "my_pipeline = Pipeline(steps=[('model', RandomForestRegressor(n_estimators=25, random_state=0))])"
      ],
      "metadata": {
        "id": "UlrPCQ1JOUsl"
      },
      "execution_count": 15,
      "outputs": []
    },
    {
      "cell_type": "code",
      "source": [
        "from sklearn.model_selection import cross_val_score\n",
        "\n",
        "# Multiply by -1 since sklearn calculates *negative* MAE\n",
        "scores = -1 * cross_val_score(my_pipeline, X, y, cv=5, scoring='neg_mean_absolute_error')\n",
        "\n",
        "print(\"MAE scores:\\n\", scores)"
      ],
      "metadata": {
        "colab": {
          "base_uri": "https://localhost:8080/"
        },
        "id": "PTj5c8xwOhuR",
        "outputId": "393440dd-291e-4cf2-e787-beb8fc8c1c6e"
      },
      "execution_count": 16,
      "outputs": [
        {
          "output_type": "stream",
          "name": "stdout",
          "text": [
            "MAE scores:\n",
            " [0.99068736 1.07626454 1.0521802  0.88861849 0.85327526]\n"
          ]
        }
      ]
    },
    {
      "cell_type": "code",
      "source": [
        "print(\"Average MAE score (across above experiments):\")\n",
        "print(scores.mean())"
      ],
      "metadata": {
        "colab": {
          "base_uri": "https://localhost:8080/"
        },
        "id": "sxF3Crs1Ox07",
        "outputId": "1410306a-f481-4fde-ede5-c33b984a460f"
      },
      "execution_count": 17,
      "outputs": [
        {
          "output_type": "stream",
          "name": "stdout",
          "text": [
            "Average MAE score (across above experiments):\n",
            "0.9722051703273513\n"
          ]
        }
      ]
    },
    {
      "cell_type": "code",
      "source": [
        "df[\"deltaG\"].mean()"
      ],
      "metadata": {
        "colab": {
          "base_uri": "https://localhost:8080/"
        },
        "id": "2P0KRC1U7tdt",
        "outputId": "248f5c68-fe9d-47f7-8073-9a8c3f674b14"
      },
      "execution_count": 18,
      "outputs": [
        {
          "output_type": "execute_result",
          "data": {
            "text/plain": [
              "-8.846957290351485"
            ]
          },
          "metadata": {},
          "execution_count": 18
        }
      ]
    }
  ]
}